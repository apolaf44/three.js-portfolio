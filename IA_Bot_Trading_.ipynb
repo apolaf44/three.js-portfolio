{
  "nbformat": 4,
  "nbformat_minor": 0,
  "metadata": {
    "colab": {
      "name": "IA Bot Trading .ipynb",
      "provenance": [],
      "collapsed_sections": [],
      "authorship_tag": "ABX9TyPAbyaO1jyQ5JTJ64lfzn5l",
      "include_colab_link": true
    },
    "kernelspec": {
      "name": "python3",
      "display_name": "Python 3"
    },
    "language_info": {
      "name": "python"
    }
  },
  "cells": [
    {
      "cell_type": "markdown",
      "metadata": {
        "id": "view-in-github",
        "colab_type": "text"
      },
      "source": [
        "<a href=\"https://colab.research.google.com/github/apolaf44/three.js-portfolio/blob/main/IA_Bot_Trading_.ipynb\" target=\"_parent\"><img src=\"https://colab.research.google.com/assets/colab-badge.svg\" alt=\"Open In Colab\"/></a>"
      ]
    },
    {
      "cell_type": "code",
      "execution_count": 28,
      "metadata": {
        "colab": {
          "base_uri": "https://localhost:8080/"
        },
        "id": "3VIBTBiIknN_",
        "outputId": "a5117126-adaf-4133-8420-a8305a009950"
      },
      "outputs": [
        {
          "output_type": "stream",
          "name": "stdout",
          "text": [
            "Requirement already satisfied: yfinance in /usr/local/lib/python3.7/dist-packages (0.1.70)\n",
            "Requirement already satisfied: requests>=2.26 in /usr/local/lib/python3.7/dist-packages (from yfinance) (2.27.1)\n",
            "Requirement already satisfied: lxml>=4.5.1 in /usr/local/lib/python3.7/dist-packages (from yfinance) (4.8.0)\n",
            "Requirement already satisfied: numpy>=1.15 in /usr/local/lib/python3.7/dist-packages (from yfinance) (1.21.5)\n",
            "Requirement already satisfied: pandas>=0.24.0 in /usr/local/lib/python3.7/dist-packages (from yfinance) (1.3.5)\n",
            "Requirement already satisfied: multitasking>=0.0.7 in /usr/local/lib/python3.7/dist-packages (from yfinance) (0.0.10)\n",
            "Requirement already satisfied: pytz>=2017.3 in /usr/local/lib/python3.7/dist-packages (from pandas>=0.24.0->yfinance) (2018.9)\n",
            "Requirement already satisfied: python-dateutil>=2.7.3 in /usr/local/lib/python3.7/dist-packages (from pandas>=0.24.0->yfinance) (2.8.2)\n",
            "Requirement already satisfied: six>=1.5 in /usr/local/lib/python3.7/dist-packages (from python-dateutil>=2.7.3->pandas>=0.24.0->yfinance) (1.15.0)\n",
            "Requirement already satisfied: charset-normalizer~=2.0.0 in /usr/local/lib/python3.7/dist-packages (from requests>=2.26->yfinance) (2.0.12)\n",
            "Requirement already satisfied: certifi>=2017.4.17 in /usr/local/lib/python3.7/dist-packages (from requests>=2.26->yfinance) (2021.10.8)\n",
            "Requirement already satisfied: urllib3<1.27,>=1.21.1 in /usr/local/lib/python3.7/dist-packages (from requests>=2.26->yfinance) (1.24.3)\n",
            "Requirement already satisfied: idna<4,>=2.5 in /usr/local/lib/python3.7/dist-packages (from requests>=2.26->yfinance) (2.10)\n"
          ]
        }
      ],
      "source": [
        "pip install yfinance"
      ]
    },
    {
      "cell_type": "markdown",
      "source": [
        "**INSTALAMOS E IMPORTAMOS LIBRERIA \"yfinance\" y \"time\"**"
      ],
      "metadata": {
        "id": "lCjmUGBak7pu"
      }
    },
    {
      "cell_type": "code",
      "source": [
        "import yfinance\n",
        "import time"
      ],
      "metadata": {
        "id": "_kwDyaRTkxr1"
      },
      "execution_count": 29,
      "outputs": []
    },
    {
      "cell_type": "code",
      "source": [
        "data['EMA'] = data['Close'].rolling(100).mean()\n"
      ],
      "metadata": {
        "id": "ib_OXIPNO-5y"
      },
      "execution_count": 30,
      "outputs": []
    },
    {
      "cell_type": "markdown",
      "source": [
        "**Creamos nuevas variables: \"data\" , \"capital\" , \"insideMarket\"**"
      ],
      "metadata": {
        "id": "2G6sO_f5lI1P"
      }
    },
    {
      "cell_type": "code",
      "source": [
        "data['EMA'] = data['Close'].rolling(100).mean()\n",
        "\n",
        "capital = 10000\n",
        "insideMarket = False\n",
        "position = 'none'\n",
        "\n",
        "i = 200\n"
      ],
      "metadata": {
        "id": "I5m1Gi-upKuq"
      },
      "execution_count": 36,
      "outputs": []
    },
    {
      "cell_type": "code",
      "source": [
        "def enterLong(prize,capital):\n",
        "  shares = capital/prize\n",
        "  capital = 0\n",
        "  return shares,capital, 'long'"
      ],
      "metadata": {
        "id": "kzwZ9MyrPm2z"
      },
      "execution_count": 37,
      "outputs": []
    },
    {
      "cell_type": "code",
      "source": [
        "def enterShort(prize,capital):\n",
        "  shares = capital/prize\n",
        "  capital += shares*prize\n",
        "  return shares,capital, 'short'"
      ],
      "metadata": {
        "id": "2kHO9c2QP41Y"
      },
      "execution_count": 38,
      "outputs": []
    },
    {
      "cell_type": "markdown",
      "source": [
        "**Creamos un WHILE**"
      ],
      "metadata": {
        "id": "RbrdE6J7pZ1Z"
      }
    },
    {
      "cell_type": "code",
      "source": [
        "while True:\n",
        "  prize = data.iloc[i,3]\n",
        "  EMA = data.iloc[i,6]\n",
        "\n",
        "  if position == 'none':\n",
        "   if prize > EMA: shares,capital,position = enterLong(prize, capital)\n",
        "  else:\n",
        "    shares, capital, position = enterShort(prize, capital)\n",
        "else:\n",
        "      if prize < EMA and position == 'Long':\n",
        "        capital += shares*prize\n",
        "        position = 'none'\n",
        "        shares = 0\n",
        "        if prize > EMA and position == 'Short': capital -= prize/shares\n",
        "        position = 'none'\n",
        "        shares = 0\n",
        "\n",
        "        if i > 100 and position == 'none':\n",
        "         break \n",
        "        else:\n",
        "          i+= 1\n",
        "\n",
        "          print('Capital:', capital)\n"
      ],
      "metadata": {
        "colab": {
          "base_uri": "https://localhost:8080/",
          "height": 134
        },
        "id": "frmhWxG5k5l0",
        "outputId": "02f95e6e-2a7b-4774-b5d5-90e6bcf0febc"
      },
      "execution_count": 42,
      "outputs": [
        {
          "output_type": "error",
          "ename": "IndentationError",
          "evalue": "ignored",
          "traceback": [
            "\u001b[0;36m  File \u001b[0;32m\"<ipython-input-42-a72a959c4a89>\"\u001b[0;36m, line \u001b[0;32m20\u001b[0m\n\u001b[0;31m    else:\u001b[0m\n\u001b[0m       ^\u001b[0m\n\u001b[0;31mIndentationError\u001b[0m\u001b[0;31m:\u001b[0m expected an indented block\n"
          ]
        }
      ]
    },
    {
      "cell_type": "markdown",
      "source": [
        "Buscamos el precio CLOSE"
      ],
      "metadata": {
        "id": "GEqfSUGhm1v9"
      }
    },
    {
      "cell_type": "markdown",
      "source": [
        "**ESTRATEGIA**"
      ],
      "metadata": {
        "id": "WSivZV2KnLOd"
      }
    },
    {
      "cell_type": "markdown",
      "source": [
        "Nuestra estrategia se realizara con un instrumento financiero que sea bastante volátil. Por ejemplo BTC.\n",
        "\n",
        "Entramos en CORTOS y LARGOS\n",
        "\n"
      ],
      "metadata": {
        "id": "HzlckHjznTft"
      }
    },
    {
      "cell_type": "code",
      "source": [
        ""
      ],
      "metadata": {
        "id": "Kkh1l_78mAz3"
      },
      "execution_count": null,
      "outputs": []
    }
  ]
}